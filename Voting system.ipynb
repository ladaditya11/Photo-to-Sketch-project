{
 "cells": [
  {
   "cell_type": "code",
   "execution_count": 2,
   "id": "5cf58a6f-44f9-436a-b297-41ee078146c9",
   "metadata": {},
   "outputs": [
    {
     "name": "stdin",
     "output_type": "stream",
     "text": [
      "Enter the name of the First Person : Aditya\n",
      "Enter the name of he Second Person : Omkar\n"
     ]
    },
    {
     "name": "stdout",
     "output_type": "stream",
     "text": [
      "**********************************************\n"
     ]
    },
    {
     "name": "stdin",
     "output_type": "stream",
     "text": [
      "Enter your Voter ID :  1\n"
     ]
    },
    {
     "name": "stdout",
     "output_type": "stream",
     "text": [
      "You are a Valid Voter\n",
      "*************************************\n",
      "To Give Vote for Aditya Press 1\n",
      "To Give Vote for Omkar Press 2\n",
      "*************************************\n"
     ]
    },
    {
     "name": "stdin",
     "output_type": "stream",
     "text": [
      "Please Enter your Precious Vote :  1\n"
     ]
    },
    {
     "name": "stdout",
     "output_type": "stream",
     "text": [
      "Thank You for Voting Aditya\n",
      "**********************************************\n"
     ]
    },
    {
     "name": "stdin",
     "output_type": "stream",
     "text": [
      "Enter your Voter ID :  2\n"
     ]
    },
    {
     "name": "stdout",
     "output_type": "stream",
     "text": [
      "You are a Valid Voter\n",
      "*************************************\n",
      "To Give Vote for Aditya Press 1\n",
      "To Give Vote for Omkar Press 2\n",
      "*************************************\n"
     ]
    },
    {
     "name": "stdin",
     "output_type": "stream",
     "text": [
      "Please Enter your Precious Vote :  2\n"
     ]
    },
    {
     "name": "stdout",
     "output_type": "stream",
     "text": [
      "Thank You for Voting Omkar\n",
      "**********************************************\n"
     ]
    },
    {
     "name": "stdin",
     "output_type": "stream",
     "text": [
      "Enter your Voter ID :  3\n"
     ]
    },
    {
     "name": "stdout",
     "output_type": "stream",
     "text": [
      "You are a Valid Voter\n",
      "*************************************\n",
      "To Give Vote for Aditya Press 1\n",
      "To Give Vote for Omkar Press 2\n",
      "*************************************\n"
     ]
    },
    {
     "name": "stdin",
     "output_type": "stream",
     "text": [
      "Please Enter your Precious Vote :  1\n"
     ]
    },
    {
     "name": "stdout",
     "output_type": "stream",
     "text": [
      "Thank You for Voting Aditya\n",
      "**********************************************\n"
     ]
    },
    {
     "name": "stdin",
     "output_type": "stream",
     "text": [
      "Enter your Voter ID :  4\n"
     ]
    },
    {
     "name": "stdout",
     "output_type": "stream",
     "text": [
      "You are a Valid Voter\n",
      "*************************************\n",
      "To Give Vote for Aditya Press 1\n",
      "To Give Vote for Omkar Press 2\n",
      "*************************************\n"
     ]
    },
    {
     "name": "stdin",
     "output_type": "stream",
     "text": [
      "Please Enter your Precious Vote :  2\n"
     ]
    },
    {
     "name": "stdout",
     "output_type": "stream",
     "text": [
      "Thank You for Voting Omkar\n",
      "**********************************************\n"
     ]
    },
    {
     "name": "stdin",
     "output_type": "stream",
     "text": [
      "Enter your Voter ID :  5\n"
     ]
    },
    {
     "name": "stdout",
     "output_type": "stream",
     "text": [
      "You are a Valid Voter\n",
      "*************************************\n",
      "To Give Vote for Aditya Press 1\n",
      "To Give Vote for Omkar Press 2\n",
      "*************************************\n"
     ]
    },
    {
     "name": "stdin",
     "output_type": "stream",
     "text": [
      "Please Enter your Precious Vote :  1\n"
     ]
    },
    {
     "name": "stdout",
     "output_type": "stream",
     "text": [
      "Thank You for Voting Aditya\n",
      "**********************************************\n"
     ]
    },
    {
     "name": "stdin",
     "output_type": "stream",
     "text": [
      "Enter your Voter ID :  6\n"
     ]
    },
    {
     "name": "stdout",
     "output_type": "stream",
     "text": [
      "You are a Valid Voter\n",
      "*************************************\n",
      "To Give Vote for Aditya Press 1\n",
      "To Give Vote for Omkar Press 2\n",
      "*************************************\n"
     ]
    },
    {
     "name": "stdin",
     "output_type": "stream",
     "text": [
      "Please Enter your Precious Vote :  2\n"
     ]
    },
    {
     "name": "stdout",
     "output_type": "stream",
     "text": [
      "Thank You for Voting Omkar\n",
      "**********************************************\n"
     ]
    },
    {
     "name": "stdin",
     "output_type": "stream",
     "text": [
      "Enter your Voter ID :  7\n"
     ]
    },
    {
     "name": "stdout",
     "output_type": "stream",
     "text": [
      "You are a Valid Voter\n",
      "*************************************\n",
      "To Give Vote for Aditya Press 1\n",
      "To Give Vote for Omkar Press 2\n",
      "*************************************\n"
     ]
    },
    {
     "name": "stdin",
     "output_type": "stream",
     "text": [
      "Please Enter your Precious Vote :  1\n"
     ]
    },
    {
     "name": "stdout",
     "output_type": "stream",
     "text": [
      "Thank You for Voting Aditya\n",
      "**********************************************\n"
     ]
    },
    {
     "name": "stdin",
     "output_type": "stream",
     "text": [
      "Enter your Voter ID :  8\n"
     ]
    },
    {
     "name": "stdout",
     "output_type": "stream",
     "text": [
      "You are a Valid Voter\n",
      "*************************************\n",
      "To Give Vote for Aditya Press 1\n",
      "To Give Vote for Omkar Press 2\n",
      "*************************************\n"
     ]
    },
    {
     "name": "stdin",
     "output_type": "stream",
     "text": [
      "Please Enter your Precious Vote :  2\n"
     ]
    },
    {
     "name": "stdout",
     "output_type": "stream",
     "text": [
      "Thank You for Voting Omkar\n",
      "**********************************************\n"
     ]
    },
    {
     "name": "stdin",
     "output_type": "stream",
     "text": [
      "Enter your Voter ID :  9\n"
     ]
    },
    {
     "name": "stdout",
     "output_type": "stream",
     "text": [
      "You are a Valid Voter\n",
      "*************************************\n",
      "To Give Vote for Aditya Press 1\n",
      "To Give Vote for Omkar Press 2\n",
      "*************************************\n"
     ]
    },
    {
     "name": "stdin",
     "output_type": "stream",
     "text": [
      "Please Enter your Precious Vote :  1\n"
     ]
    },
    {
     "name": "stdout",
     "output_type": "stream",
     "text": [
      "Thank You for Voting Aditya\n",
      "**********************************************\n"
     ]
    },
    {
     "name": "stdin",
     "output_type": "stream",
     "text": [
      "Enter your Voter ID :  9\n"
     ]
    },
    {
     "name": "stdout",
     "output_type": "stream",
     "text": [
      "You Are Not A Voter or You Are Already Voted\n",
      "**********************************************\n"
     ]
    },
    {
     "name": "stdin",
     "output_type": "stream",
     "text": [
      "Enter your Voter ID :  10\n"
     ]
    },
    {
     "name": "stdout",
     "output_type": "stream",
     "text": [
      "You are a Valid Voter\n",
      "*************************************\n",
      "To Give Vote for Aditya Press 1\n",
      "To Give Vote for Omkar Press 2\n",
      "*************************************\n"
     ]
    },
    {
     "name": "stdin",
     "output_type": "stream",
     "text": [
      "Please Enter your Precious Vote :  2\n"
     ]
    },
    {
     "name": "stdout",
     "output_type": "stream",
     "text": [
      "Thank You for Voting Omkar\n",
      "Voting Session is over !!\n",
      "Both have Equal number of Votes\n"
     ]
    }
   ],
   "source": [
    "# Take input of what nominee we want\n",
    "nominee1 = input('Enter the name of the First Person :')\n",
    "nominee2 = input('Enter the name of he Second Person :')\n",
    "\n",
    "#Initial vote count for both should be zero\n",
    "nm1_votes = 0;\n",
    "nm2_votes = 0;\n",
    " \n",
    "# Specified the no. of Voter ID shuld take participate\n",
    "voter_id = [1,2,3,4,5,6,7,8,9,10]\n",
    "\n",
    "no_of_voter = len(voter_id)\n",
    "\n",
    "while True:\n",
    "    if voter_id==[]:\n",
    "        print('Voting Session is over !!')\n",
    "        if nm1_votes>nm2_votes:\n",
    "            percent = (nm1_votes/no_of_voter)*100\n",
    "            print(nominee1,'has WON the Election with',percent,'%')\n",
    "        elif nm2_votes>nm1_votes:\n",
    "            percent = (nm2_votes/no_of_voter)*100\n",
    "            print(nominee2,'has WON the Election with',percent,'%')\n",
    "        else:\n",
    "            print('Both have Equal number of Votes')\n",
    "        # Break is used to exit the loop when all voting is over\n",
    "        break\n",
    "    print('**********************************************')\n",
    "    voter=int(input('Enter your Voter ID : '))\n",
    "    if voter in voter_id:\n",
    "        print('You are a Valid Voter')\n",
    "        voter_id.remove(voter)\n",
    "        print('*************************************')\n",
    "        print('To Give Vote for',nominee1,'Press 1')\n",
    "        print('To Give Vote for',nominee2,'Press 2')\n",
    "        print('*************************************')\n",
    "        vote=int(input('Please Enter your Precious Vote : '))\n",
    "        if vote ==1:\n",
    "            nm1_votes=nm1_votes+1\n",
    "            print('Thank You for Voting',nominee1)\n",
    "            \n",
    "        elif vote ==2:\n",
    "            nm2_votes=nm2_votes+1\n",
    "            print('Thank You for Voting',nominee2)\n",
    "        elif vote>2:\n",
    "            print(\"You Press Wrong Key\")\n",
    "    else:\n",
    "        print(\"You Are Not A Voter or You Are Already Voted\")\n"
   ]
  },
  {
   "cell_type": "code",
   "execution_count": null,
   "id": "1d4d4046-db8c-43ed-8d6d-738e848bd8c0",
   "metadata": {},
   "outputs": [],
   "source": [
    "import tkinter as tk\n",
    "from tkinter import messagebox\n",
    "\n",
    "class VotingSystem:\n",
    "    def __init__(self, root):\n",
    "        self.root = root\n",
    "        self.root.title(\"Voting System\")\n",
    "        \n",
    "        # Initialize vote counts\n",
    "        self.nm1_votes = 0\n",
    "        self.nm2_votes = 0\n",
    "        \n",
    "        # Specified the no. of Voter ID should take participate\n",
    "        self.voter_id = [1, 2, 3, 4, 5, 6, 7, 8, 9, 10]\n",
    "        self.no_of_voter = len(self.voter_id)\n",
    "\n",
    "        # Setup UI\n",
    "        self.setup_ui()\n",
    "\n",
    "    def setup_ui(self):\n",
    "        # Nominee input\n",
    "        tk.Label(self.root, text=\"Enter the name of the First Person:\").pack()\n",
    "        self.nominee1_entry = tk.Entry(self.root)\n",
    "        self.nominee1_entry.pack()\n",
    "\n",
    "        tk.Label(self.root, text=\"Enter the name of the Second Person:\").pack()\n",
    "        self.nominee2_entry = tk.Entry(self.root)\n",
    "        self.nominee2_entry.pack()\n",
    "\n",
    "        tk.Button(self.root, text=\"Start Voting\", command=self.start_voting).pack(pady=10)\n",
    "\n",
    "    def start_voting(self):\n",
    "        self.nominee1 = self.nominee1_entry.get()\n",
    "        self.nominee2 = self.nominee2_entry.get()\n",
    "        \n",
    "        if not self.nominee1 or not self.nominee2:\n",
    "            messagebox.showerror(\"Error\", \"Please enter names for both nominees.\")\n",
    "            return\n",
    "        \n",
    "        self.nominee1_entry.config(state=tk.DISABLED)\n",
    "        self.nominee2_entry.config(state=tk.DISABLED)\n",
    "\n",
    "        # Voting section\n",
    "        self.voter_label = tk.Label(self.root, text=\"Enter your Voter ID:\")\n",
    "        self.voter_label.pack()\n",
    "\n",
    "        self.voter_id_entry = tk.Entry(self.root)\n",
    "        self.voter_id_entry.pack()\n",
    "\n",
    "        self.vote_button = tk.Button(self.root, text=\"Vote\", command=self.vote)\n",
    "        self.vote_button.pack(pady=5)\n",
    "\n",
    "    def vote(self):\n",
    "        try:\n",
    "            voter = int(self.voter_id_entry.get())\n",
    "        except ValueError:\n",
    "            messagebox.showerror(\"Error\", \"Invalid Voter ID. Please enter a number.\")\n",
    "            return\n",
    "\n",
    "        if voter in self.voter_id:\n",
    "            self.voter_id.remove(voter)\n",
    "            self.voter_label.config(text=\"To Give Vote:\")\n",
    "            \n",
    "            self.vote_button.config(state=tk.DISABLED)\n",
    "            \n",
    "            self.vote_frame = tk.Frame(self.root)\n",
    "            self.vote_frame.pack(pady=10)\n",
    "\n",
    "            tk.Label(self.vote_frame, text=f\"To Vote for {self.nominee1}, Press 1\").pack()\n",
    "            tk.Label(self.vote_frame, text=f\"To Vote for {self.nominee2}, Press 2\").pack()\n",
    "\n",
    "            self.vote_entry = tk.Entry(self.vote_frame)\n",
    "            self.vote_entry.pack()\n",
    "\n",
    "            tk.Button(self.vote_frame, text=\"Submit Vote\", command=self.submit_vote).pack(pady=5)\n",
    "        else:\n",
    "            messagebox.showerror(\"Error\", \"You are not a valid voter or have already voted.\")\n",
    "        \n",
    "        if not self.voter_id:\n",
    "            self.end_voting()\n",
    "\n",
    "    def submit_vote(self):\n",
    "        try:\n",
    "            vote = int(self.vote_entry.get())\n",
    "        except ValueError:\n",
    "            messagebox.showerror(\"Error\", \"Invalid vote. Please enter 1 or 2.\")\n",
    "            return\n",
    "\n",
    "        if vote == 1:\n",
    "            self.nm1_votes += 1\n",
    "            messagebox.showinfo(\"Vote\", f\"Thank you for voting {self.nominee1}.\")\n",
    "        elif vote == 2:\n",
    "            self.nm2_votes += 1\n",
    "            messagebox.showinfo(\"Vote\", f\"Thank you for voting {self.nominee2}.\")\n",
    "        else:\n",
    "            messagebox.showerror(\"Error\", \"You pressed the wrong key.\")\n",
    "\n",
    "        self.vote_entry.delete(0, tk.END)\n",
    "        self.vote_frame.destroy()\n",
    "        self.voter_label.config(text=\"Enter your Voter ID:\")\n",
    "        self.vote_button.config(state=tk.NORMAL)\n",
    "\n",
    "        if not self.voter_id:\n",
    "            self.end_voting()\n",
    "\n",
    "    def end_voting(self):\n",
    "        if self.nm1_votes > self.nm2_votes:\n",
    "            percent = (self.nm1_votes / self.no_of_voter) * 100\n",
    "            result = f\"{self.nominee1} has WON the Election with {percent:.2f}% votes\"\n",
    "        elif self.nm2_votes > self.nm1_votes:\n",
    "            percent = (self.nm2_votes / self.no_of_voter) * 100\n",
    "            result = f\"{self.nominee2} has WON the Election with {percent:.2f}% votes\"\n",
    "        else:\n",
    "            result = \"Both nominees have equal number of votes.\"\n",
    "\n",
    "        messagebox.showinfo(\"Voting Result\", result)\n",
    "        self.root.destroy()\n",
    "\n",
    "if __name__ == \"__main__\":\n",
    "    root = tk.Tk()\n",
    "    app = VotingSystem(root)\n",
    "    root.mainloop()\n"
   ]
  }
 ],
 "metadata": {
  "kernelspec": {
   "display_name": "Python 3 (ipykernel)",
   "language": "python",
   "name": "python3"
  },
  "language_info": {
   "codemirror_mode": {
    "name": "ipython",
    "version": 3
   },
   "file_extension": ".py",
   "mimetype": "text/x-python",
   "name": "python",
   "nbconvert_exporter": "python",
   "pygments_lexer": "ipython3",
   "version": "3.11.7"
  }
 },
 "nbformat": 4,
 "nbformat_minor": 5
}
