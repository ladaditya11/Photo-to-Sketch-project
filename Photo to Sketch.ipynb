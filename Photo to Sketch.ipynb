{
 "cells": [
  {
   "cell_type": "code",
   "execution_count": 7,
   "id": "fe3a83c9-6b54-4a8c-bf65-7ae958fb71c7",
   "metadata": {},
   "outputs": [
    {
     "name": "stderr",
     "output_type": "stream",
     "text": [
      "C:\\Users\\admin\\AppData\\Local\\Temp\\ipykernel_14856\\1248419239.py:16: DeprecationWarning: Starting with ImageIO v3 the behavior of this function will switch to that of iio.v3.imread. To keep the current behavior (and make this warning disappear) use `import imageio.v2 as imageio` or call `imageio.v2.imread` directly.\n",
      "  ss = imageio.imread(img)\n",
      "C:\\Users\\admin\\AppData\\Local\\Temp\\ipykernel_14856\\1248419239.py:21: DeprecationWarning: Please use `gaussian_filter` from the `scipy.ndimage` namespace, the `scipy.ndimage.filters` namespace is deprecated.\n",
      "  blur = scipy.ndimage.filters.gaussian_filter(i,sigma = 15)\n"
     ]
    },
    {
     "data": {
      "text/plain": [
       "True"
      ]
     },
     "execution_count": 7,
     "metadata": {},
     "output_type": "execute_result"
    }
   ],
   "source": [
    "import numpy as np  \n",
    "import imageio\n",
    "import scipy.ndimage\n",
    "import cv2\n",
    "\n",
    "img=\"Aditya.jpg\"\n",
    "def rgb2gray(rgb):\n",
    "    return np.dot(rgb[...,:3],[0.29890,0.5870,0.1140])\n",
    "\n",
    "def dodge(front,back):\n",
    "    result = front * 255 / (255 - back)  # Changed this line for proper dodge blending\n",
    "    result[result > 255] = 255  # Changed to result to ensure scaling correctly\n",
    "    result[back == 255] = 255  # Changed to result for proper handling of division by 255\n",
    "    return result.astype('uint8')\n",
    "    \n",
    "ss = imageio.imread(img)\n",
    "gray = rgb2gray(ss)\n",
    "\n",
    "i = 255-gray\n",
    "\n",
    "blur = scipy.ndimage.filters.gaussian_filter(i,sigma = 15)\n",
    "r = dodge(blur,gray)\n",
    "cv2.imwrite('Sketch.png',r)"
   ]
  },
  {
   "cell_type": "code",
   "execution_count": null,
   "id": "4ffac3c6-a49d-4372-a775-a2bb9e0056f3",
   "metadata": {},
   "outputs": [],
   "source": []
  }
 ],
 "metadata": {
  "kernelspec": {
   "display_name": "Python 3 (ipykernel)",
   "language": "python",
   "name": "python3"
  },
  "language_info": {
   "codemirror_mode": {
    "name": "ipython",
    "version": 3
   },
   "file_extension": ".py",
   "mimetype": "text/x-python",
   "name": "python",
   "nbconvert_exporter": "python",
   "pygments_lexer": "ipython3",
   "version": "3.11.7"
  }
 },
 "nbformat": 4,
 "nbformat_minor": 5
}
